{
 "cells": [
  {
   "cell_type": "code",
   "execution_count": 19,
   "id": "2147e11f-68a1-41c6-aa3e-378d6d8baa5c",
   "metadata": {},
   "outputs": [
    {
     "name": "stdout",
     "output_type": "stream",
     "text": [
      "Collecting seaborn\n",
      "  Downloading seaborn-0.11.2-py3-none-any.whl (292 kB)\n",
      "Requirement already satisfied: numpy>=1.15 in c:\\jupyterlab\\resources\\jlab_server\\lib\\site-packages (from seaborn) (1.21.2)\n",
      "Requirement already satisfied: pandas>=0.23 in c:\\jupyterlab\\resources\\jlab_server\\lib\\site-packages (from seaborn) (1.3.3)\n",
      "Requirement already satisfied: scipy>=1.0 in c:\\jupyterlab\\resources\\jlab_server\\lib\\site-packages (from seaborn) (1.7.1)\n",
      "Requirement already satisfied: matplotlib>=2.2 in c:\\jupyterlab\\resources\\jlab_server\\lib\\site-packages (from seaborn) (3.4.3)\n",
      "Requirement already satisfied: kiwisolver>=1.0.1 in c:\\jupyterlab\\resources\\jlab_server\\lib\\site-packages (from matplotlib>=2.2->seaborn) (1.3.2)\n",
      "Requirement already satisfied: pillow>=6.2.0 in c:\\jupyterlab\\resources\\jlab_server\\lib\\site-packages (from matplotlib>=2.2->seaborn) (8.3.2)\n",
      "Requirement already satisfied: python-dateutil>=2.7 in c:\\jupyterlab\\resources\\jlab_server\\lib\\site-packages (from matplotlib>=2.2->seaborn) (2.8.2)\n",
      "Requirement already satisfied: cycler>=0.10 in c:\\jupyterlab\\resources\\jlab_server\\lib\\site-packages (from matplotlib>=2.2->seaborn) (0.10.0)\n",
      "Requirement already satisfied: pyparsing>=2.2.1 in c:\\jupyterlab\\resources\\jlab_server\\lib\\site-packages (from matplotlib>=2.2->seaborn) (2.4.7)\n",
      "Requirement already satisfied: six in c:\\jupyterlab\\resources\\jlab_server\\lib\\site-packages (from cycler>=0.10->matplotlib>=2.2->seaborn) (1.16.0)\n",
      "Requirement already satisfied: pytz>=2017.3 in c:\\jupyterlab\\resources\\jlab_server\\lib\\site-packages (from pandas>=0.23->seaborn) (2021.1)\n",
      "Installing collected packages: seaborn\n",
      "Successfully installed seaborn-0.11.2\n"
     ]
    }
   ],
   "source": [
    "!pip install seaborn"
   ]
  },
  {
   "cell_type": "code",
   "execution_count": 23,
   "id": "eecd8789-b2e4-46ad-a7cf-3643336d1407",
   "metadata": {},
   "outputs": [],
   "source": [
    "import pandas as pd\n",
    "import seaborn as sns\n",
    "import matplotlib.pyplot as plt"
   ]
  },
  {
   "cell_type": "code",
   "execution_count": 14,
   "id": "fdb2752f-b411-46a6-907f-cb2817e1c626",
   "metadata": {},
   "outputs": [],
   "source": [
    "raw = pd.read_csv('Desktop/xView3 Shipping Challenge/train.csv')"
   ]
  },
  {
   "cell_type": "code",
   "execution_count": 15,
   "id": "bed47d12-f91b-48b5-a3b7-7ff1359415be",
   "metadata": {},
   "outputs": [
    {
     "data": {
      "text/html": [
       "<div>\n",
       "<style scoped>\n",
       "    .dataframe tbody tr th:only-of-type {\n",
       "        vertical-align: middle;\n",
       "    }\n",
       "\n",
       "    .dataframe tbody tr th {\n",
       "        vertical-align: top;\n",
       "    }\n",
       "\n",
       "    .dataframe thead th {\n",
       "        text-align: right;\n",
       "    }\n",
       "</style>\n",
       "<table border=\"1\" class=\"dataframe\">\n",
       "  <thead>\n",
       "    <tr style=\"text-align: right;\">\n",
       "      <th></th>\n",
       "      <th>detect_lat</th>\n",
       "      <th>detect_lon</th>\n",
       "      <th>vessel_length_m</th>\n",
       "      <th>source</th>\n",
       "      <th>detect_scene_row</th>\n",
       "      <th>detect_scene_column</th>\n",
       "      <th>is_vessel</th>\n",
       "      <th>is_fishing</th>\n",
       "      <th>distance_from_shore_km</th>\n",
       "      <th>scene_id</th>\n",
       "      <th>confidence</th>\n",
       "      <th>top</th>\n",
       "      <th>left</th>\n",
       "      <th>bottom</th>\n",
       "      <th>right</th>\n",
       "      <th>detect_id</th>\n",
       "    </tr>\n",
       "  </thead>\n",
       "  <tbody>\n",
       "    <tr>\n",
       "      <th>0</th>\n",
       "      <td>5.662924</td>\n",
       "      <td>4.842429</td>\n",
       "      <td>NaN</td>\n",
       "      <td>ais</td>\n",
       "      <td>16722</td>\n",
       "      <td>22703</td>\n",
       "      <td>NaN</td>\n",
       "      <td>NaN</td>\n",
       "      <td>9999.990000</td>\n",
       "      <td>e42a50089e03990ft</td>\n",
       "      <td>LOW</td>\n",
       "      <td>NaN</td>\n",
       "      <td>NaN</td>\n",
       "      <td>NaN</td>\n",
       "      <td>NaN</td>\n",
       "      <td>e42a50089e03990ft_005.66292355123628965430_004...</td>\n",
       "    </tr>\n",
       "    <tr>\n",
       "      <th>1</th>\n",
       "      <td>5.830786</td>\n",
       "      <td>4.794394</td>\n",
       "      <td>NaN</td>\n",
       "      <td>ais</td>\n",
       "      <td>14867</td>\n",
       "      <td>22165</td>\n",
       "      <td>False</td>\n",
       "      <td>NaN</td>\n",
       "      <td>9999.990000</td>\n",
       "      <td>e42a50089e03990ft</td>\n",
       "      <td>HIGH</td>\n",
       "      <td>NaN</td>\n",
       "      <td>NaN</td>\n",
       "      <td>NaN</td>\n",
       "      <td>NaN</td>\n",
       "      <td>e42a50089e03990ft_005.83078557395605034941_004...</td>\n",
       "    </tr>\n",
       "    <tr>\n",
       "      <th>2</th>\n",
       "      <td>5.650289</td>\n",
       "      <td>5.076500</td>\n",
       "      <td>NaN</td>\n",
       "      <td>ais</td>\n",
       "      <td>16853</td>\n",
       "      <td>25297</td>\n",
       "      <td>False</td>\n",
       "      <td>NaN</td>\n",
       "      <td>4.120485</td>\n",
       "      <td>e42a50089e03990ft</td>\n",
       "      <td>HIGH</td>\n",
       "      <td>NaN</td>\n",
       "      <td>NaN</td>\n",
       "      <td>NaN</td>\n",
       "      <td>NaN</td>\n",
       "      <td>e42a50089e03990ft_005.65028885294942995188_005...</td>\n",
       "    </tr>\n",
       "    <tr>\n",
       "      <th>3</th>\n",
       "      <td>5.865495</td>\n",
       "      <td>4.938335</td>\n",
       "      <td>NaN</td>\n",
       "      <td>ais</td>\n",
       "      <td>14478</td>\n",
       "      <td>23758</td>\n",
       "      <td>False</td>\n",
       "      <td>NaN</td>\n",
       "      <td>4.344042</td>\n",
       "      <td>e42a50089e03990ft</td>\n",
       "      <td>HIGH</td>\n",
       "      <td>NaN</td>\n",
       "      <td>NaN</td>\n",
       "      <td>NaN</td>\n",
       "      <td>NaN</td>\n",
       "      <td>e42a50089e03990ft_005.86549528127105990194_004...</td>\n",
       "    </tr>\n",
       "    <tr>\n",
       "      <th>4</th>\n",
       "      <td>5.777973</td>\n",
       "      <td>4.910044</td>\n",
       "      <td>NaN</td>\n",
       "      <td>ais</td>\n",
       "      <td>15447</td>\n",
       "      <td>23448</td>\n",
       "      <td>False</td>\n",
       "      <td>NaN</td>\n",
       "      <td>9999.990000</td>\n",
       "      <td>e42a50089e03990ft</td>\n",
       "      <td>HIGH</td>\n",
       "      <td>NaN</td>\n",
       "      <td>NaN</td>\n",
       "      <td>NaN</td>\n",
       "      <td>NaN</td>\n",
       "      <td>e42a50089e03990ft_005.77797292764882008953_004...</td>\n",
       "    </tr>\n",
       "  </tbody>\n",
       "</table>\n",
       "</div>"
      ],
      "text/plain": [
       "   detect_lat  detect_lon  vessel_length_m source  detect_scene_row  \\\n",
       "0    5.662924    4.842429              NaN    ais             16722   \n",
       "1    5.830786    4.794394              NaN    ais             14867   \n",
       "2    5.650289    5.076500              NaN    ais             16853   \n",
       "3    5.865495    4.938335              NaN    ais             14478   \n",
       "4    5.777973    4.910044              NaN    ais             15447   \n",
       "\n",
       "   detect_scene_column is_vessel is_fishing  distance_from_shore_km  \\\n",
       "0                22703       NaN        NaN             9999.990000   \n",
       "1                22165     False        NaN             9999.990000   \n",
       "2                25297     False        NaN                4.120485   \n",
       "3                23758     False        NaN                4.344042   \n",
       "4                23448     False        NaN             9999.990000   \n",
       "\n",
       "            scene_id confidence  top  left  bottom  right  \\\n",
       "0  e42a50089e03990ft        LOW  NaN   NaN     NaN    NaN   \n",
       "1  e42a50089e03990ft       HIGH  NaN   NaN     NaN    NaN   \n",
       "2  e42a50089e03990ft       HIGH  NaN   NaN     NaN    NaN   \n",
       "3  e42a50089e03990ft       HIGH  NaN   NaN     NaN    NaN   \n",
       "4  e42a50089e03990ft       HIGH  NaN   NaN     NaN    NaN   \n",
       "\n",
       "                                           detect_id  \n",
       "0  e42a50089e03990ft_005.66292355123628965430_004...  \n",
       "1  e42a50089e03990ft_005.83078557395605034941_004...  \n",
       "2  e42a50089e03990ft_005.65028885294942995188_005...  \n",
       "3  e42a50089e03990ft_005.86549528127105990194_004...  \n",
       "4  e42a50089e03990ft_005.77797292764882008953_004...  "
      ]
     },
     "execution_count": 15,
     "metadata": {},
     "output_type": "execute_result"
    }
   ],
   "source": [
    "raw.head()"
   ]
  },
  {
   "cell_type": "code",
   "execution_count": 16,
   "id": "f4fa3889-487d-4484-9c44-ef2e916e2de9",
   "metadata": {},
   "outputs": [
    {
     "data": {
      "text/plain": [
       "c1c7c66e0af111a2t    435\n",
       "6f3e6b05cf9d127at    424\n",
       "68131f10aed5c5a2t    423\n",
       "a791f9b908c03325t    419\n",
       "bc3cf9dc5abd3c65t    413\n",
       "                    ... \n",
       "32c92937954b0298t     28\n",
       "58506c1164d53d58t     28\n",
       "c07f6ec980c2c149t     27\n",
       "42b157923b7a27e5t     26\n",
       "e0798a8e99c2568ft     26\n",
       "Name: scene_id, Length: 554, dtype: int64"
      ]
     },
     "execution_count": 16,
     "metadata": {},
     "output_type": "execute_result"
    }
   ],
   "source": [
    "raw['scene_id'].value_counts()\n",
    "#554 scenes"
   ]
  },
  {
   "cell_type": "code",
   "execution_count": 26,
   "id": "536d1749-2fbb-4b23-ab06-8b94c2674dbf",
   "metadata": {},
   "outputs": [
    {
     "data": {
      "image/png": "[encoded data removed]",
      "text/plain": [
       "<Figure size 432x288 with 1 Axes>"
      ]
     },
     "metadata": {
      "needs_background": "light"
     },
     "output_type": "display_data"
    },
    {
     "data": {
      "image/png": "[encoded data removed]",
      "text/plain": [
       "<Figure size 432x288 with 1 Axes>"
      ]
     },
     "metadata": {
      "needs_background": "light"
     },
     "output_type": "display_data"
    }
   ],
   "source": [
    "scenes = ['05bc615a9b0e1159t','2899cfb18883251bt']\n",
    "for scene in scenes:\n",
    "    scene_data = raw[raw['scene_id']==scene]\n",
    "    sns.scatterplot(data=scene_data, x='detect_lat', y='detect_lon', hue='is_vessel')\n",
    "    plt.title(scene)\n",
    "    plt.show()"
   ]
  },
  {
   "cell_type": "code",
   "execution_count": null,
   "id": "6bcc7c0b-7773-425d-a9b5-8040004fce52",
   "metadata": {},
   "outputs": [],
   "source": []
  }
 ],
 "metadata": {
  "kernelspec": {
   "display_name": "Python 3 (ipykernel)",
   "language": "python",
   "name": "python3"
  },
  "language_info": {
   "codemirror_mode": {
    "name": "ipython",
    "version": 3
   },
   "file_extension": ".py",
   "mimetype": "text/x-python",
   "name": "python",
   "nbconvert_exporter": "python",
   "pygments_lexer": "ipython3",
   "version": "3.8.12"
  }
 },
 "nbformat": 4,
 "nbformat_minor": 5
}
